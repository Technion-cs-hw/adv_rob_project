{
 "cells": [
  {
   "cell_type": "code",
   "execution_count": 1,
   "id": "8eb8d69c-3c15-4cd8-9280-143a6187b459",
   "metadata": {},
   "outputs": [],
   "source": [
    "from  projectCode.imports import *"
   ]
  },
  {
   "cell_type": "code",
   "execution_count": null,
   "id": "f4a29947-3c42-441b-9335-d305bb567c0d",
   "metadata": {},
   "outputs": [
    {
     "name": "stdout",
     "output_type": "stream",
     "text": [
      "cuda\n",
      "loading annotations into memory...\n",
      "Done (t=0.03s)\n",
      "creating index...\n",
      "index created!\n",
      "Selected 512 images.\n",
      "Downloading images\n"
     ]
    }
   ],
   "source": [
    "device = set_device()\n",
    "ann_file = \"./annotations/annotations/captions_val2017.json\"\n",
    "num_examples = 512\n",
    "batch_size = 1\n",
    "seed = 42"
   ]
  },
  {
   "cell_type": "code",
   "execution_count": null,
   "id": "b4ce48d6",
   "metadata": {},
   "outputs": [],
   "source": [
    "ds = CocoDataset(ann_file, num_examples, img_dir = \"imgs\",seed = seed)\n",
    "dl = DataLoader(ds, batch_size = batch_size)"
   ]
  },
  {
   "cell_type": "code",
   "execution_count": null,
   "id": "8ee21067-8b6f-440e-880b-fa6fe421f210",
   "metadata": {},
   "outputs": [
    {
     "name": "stderr",
     "output_type": "stream",
     "text": [
      "/home/captioning/miniconda3/envs/captioning/lib/python3.10/site-packages/torch/functional.py:513: UserWarning: torch.meshgrid: in an upcoming release, it will be required to pass the indexing argument. (Triggered internally at /opt/conda/conda-bld/pytorch_1720538459595/work/aten/src/ATen/native/TensorShape.cpp:3609.)\n",
      "  return _VF.meshgrid(tensors, **kwargs)  # type: ignore[attr-defined]\n",
      "/home/captioning/236874/projectCode/ModelLoader.py:177: FutureWarning: You are using `torch.load` with `weights_only=False` (the current default value), which uses the default pickle module implicitly. It is possible to construct malicious pickle data which will execute arbitrary code during unpickling (See https://github.com/pytorch/pytorch/blob/main/SECURITY.md#untrusted-models for more details). In a future release, the default value for `weights_only` will be flipped to `True`. This limits the functions that could be executed during unpickling. Arbitrary objects will no longer be allowed to be loaded via this mode unless they are explicitly allowlisted by the user via `torch.serialization.add_safe_globals`. We recommend you start setting `weights_only=True` for any use case where you don't have full control of the loaded file. Please open an issue on GitHub for any issues related to this experimental feature.\n",
      "  checkpoint = torch.load(model_path, map_location=device)\n"
     ]
    }
   ],
   "source": [
    "model_params={\"device\":device,\"tokens_path\":'./models/ExpansionNet_v2/demo_material/demo_coco_tokens.pickle',\"blured\":True}\n",
    "model = loadModel(\"ExpansionNet\",model_path=\"./models/ExpansionNet_v2/rf_model.pth\",**model_params)"
   ]
  },
  {
   "cell_type": "code",
   "execution_count": 4,
   "id": "1759b998",
   "metadata": {},
   "outputs": [],
   "source": [
    "def inv_perplexity(logits,sentence, filterModel):\n",
    "    \n",
    "    filter = filterModel(sentence)\n",
    "    \n",
    "    filtered_logits = logits[torch.tensor(filter,dtype=torch.bool)]\n",
    "    \n",
    "    probs = torch.softmax(filtered_logits, dim=1)  \n",
    "    \n",
    "    max_probs = probs.max(dim=1).values\n",
    "    log_likelihood_normalized = max_probs.log().sum().div(len(filtered_logits))\n",
    "    return torch.exp(log_likelihood_normalized)"
   ]
  },
  {
   "cell_type": "code",
   "execution_count": 10,
   "id": "b13a53de-9e0b-4291-a81e-a5ff32913f4a",
   "metadata": {},
   "outputs": [
    {
     "name": "stderr",
     "output_type": "stream",
     "text": [
      "/tmp/ipykernel_309678/104274081.py:1: FutureWarning: You are using `torch.load` with `weights_only=False` (the current default value), which uses the default pickle module implicitly. It is possible to construct malicious pickle data which will execute arbitrary code during unpickling (See https://github.com/pytorch/pytorch/blob/main/SECURITY.md#untrusted-models for more details). In a future release, the default value for `weights_only` will be flipped to `True`. This limits the functions that could be executed during unpickling. Arbitrary objects will no longer be allowed to be loaded via this mode unless they are explicitly allowlisted by the user via `torch.serialization.add_safe_globals`. We recommend you start setting `weights_only=True` for any use case where you don't have full control of the loaded file. Please open an issue on GitHub for any issues related to this experimental feature.\n",
      "  perts = torch.load(\"./adversarial_attacks/ExpNet/v1/ExpNet_512_pert.pt\").to(device)\n"
     ]
    },
    {
     "name": "stdout",
     "output_type": "stream",
     "text": [
      "2025-03-02 16:50:28,563 SequenceTagger predicts: Dictionary with 53 tags: <unk>, O, UH, ,, VBD, PRP, VB, PRP$, NN, RB, ., DT, JJ, VBP, VBG, IN, CD, NNS, NNP, WRB, VBZ, WDT, CC, TO, MD, VBN, WP, :, RP, EX, JJR, FW, XX, HYPH, POS, RBR, JJS, PDT, NNPS, RBS, AFX, WP$, -LRB-, -RRB-, ``, '', LS, $, SYM, ADD\n",
      "0.9460185360401234\n"
     ]
    }
   ],
   "source": [
    "perts = torch.load(\"./adversarial_attacks/ExpNet/v1/ExpNet_512_pert.pt\").to(device)\n",
    "\n",
    "file_path = \"./adversarial_attacks/ExpNet/v1/ExpNet_512_1_cap.json\"\n",
    "with open(file_path, 'r') as openfile:\n",
    "    captions = json.load(openfile)\n",
    "eos_idx = 77\n",
    "filterModel = loadModel( \"POS\",None)\n",
    "cap_confidences = []\n",
    "attacked_confidence = []\n",
    "for i in range(512):\n",
    "    if captions[\"scores\"][\"meteor\"][i][0] < 0.4:\n",
    "        continue\n",
    "    \n",
    "    img = ds[i][0].to(device)\n",
    "    #out, pred, logits, _ = model(img.unsqueeze(0).to(device))\n",
    "    out, pred, logits, _ = model(img.unsqueeze(0).to(device))\n",
    "    out_a, pred_a, logits_a, _ = model(torch.clamp((img.unsqueeze(0) + perts[i]),0,1).to(device))\n",
    "\n",
    "    end = pred[0][0].index(eos_idx)-1\n",
    "    logits = logits.detach().to('cpu')[:end]\n",
    "    \n",
    "    if(out[0][-1] == '.'):\n",
    "        out[0]= out[0][:-1]\n",
    "    conf = inv_perplexity(logits=logits,sentence=out[0],filterModel=filterModel)\n",
    "    cap_confidences.append(conf.item())\n",
    "\n",
    "    end = pred_a[0][0].index(eos_idx)-1\n",
    "    logits_a = logits_a.detach().to('cpu')[:end]\n",
    "    \n",
    "    if(out_a[0][-1] == '.'):\n",
    "        out_a[0]= out_a[0][:-1]\n",
    "    conf = inv_perplexity(logits=logits_a,sentence=out_a[0],filterModel=filterModel)\n",
    "    attacked_confidence.append(conf.item())\n",
    "\n",
    "print(sum(cap_confidences)/len(cap_confidences)) "
   ]
  },
  {
   "cell_type": "code",
   "execution_count": 11,
   "id": "ee2a446c",
   "metadata": {},
   "outputs": [],
   "source": [
    "def CDF(val_list,generator = None):\n",
    "    if generator is None:\n",
    "        generator = [i/100 for i in range(1,101)]\n",
    "    l = len(val_list)\n",
    "    cnf = []\n",
    "    for i in generator:\n",
    "        f_len = len(list(filter(lambda x: x < i , val_list)))\n",
    "        frac = f_len/l\n",
    "        cnf.append(frac)\n",
    "    return cnf\n"
   ]
  },
  {
   "cell_type": "code",
   "execution_count": 12,
   "id": "e2832ec6",
   "metadata": {},
   "outputs": [],
   "source": [
    "steps = [i/100 for i in range(1,101)]\n",
    "attacked_cdf = CDF(attacked_confidence,steps)\n",
    "regular_cdf = CDF(cap_confidences,steps)"
   ]
  },
  {
   "cell_type": "code",
   "execution_count": 13,
   "id": "78b52ec5",
   "metadata": {},
   "outputs": [
    {
     "data": {
      "text/plain": [
       "<function matplotlib.pyplot.show(close=None, block=None)>"
      ]
     },
     "execution_count": 13,
     "metadata": {},
     "output_type": "execute_result"
    },
    {
     "data": {
      "image/png": "[encoded data removed]",
      "text/plain": [
       "<Figure size 640x480 with 1 Axes>"
      ]
     },
     "metadata": {},
     "output_type": "display_data"
    }
   ],
   "source": [
    "plt.plot(steps,regular_cdf,label=\"regular data\")\n",
    "plt.plot(steps,attacked_cdf,label=\"adversarial data\")\n",
    "cdf_diff = [at - reg for at,reg in zip(attacked_cdf,regular_cdf)]\n",
    "plt.plot(steps,cdf_diff,label=\"difference\")\n",
    "\n",
    "plt.xlabel(\"threshhold value for binary classification\")\n",
    "plt.ylabel(\"CDF of inverse perplexity\")\n",
    "\n",
    "\n",
    "plt.legend()\n",
    "plt.show"
   ]
  },
  {
   "cell_type": "code",
   "execution_count": 14,
   "id": "656d5c3b",
   "metadata": {},
   "outputs": [
    {
     "name": "stdout",
     "output_type": "stream",
     "text": [
      "Optimal threshhold is 0.89\n",
      "TP = 0.8581560283687943, FP = 0.13475177304964536\n",
      "TN = 0.8652482269503546, FN = 0.14184397163120568\n",
      "Precision = 0.8642857142857143      Recall = 0.8581560283687943       F_1 = 0.8612099644128114 \n"
     ]
    }
   ],
   "source": [
    "optimal_cnf_diff = max(cdf_diff)\n",
    "opt_indx = cdf_diff.index(optimal_cnf_diff)\n",
    "optimal_threshhold = steps[opt_indx]\n",
    "print(\"Optimal threshhold is\",optimal_threshhold)\n",
    "tp = 1-regular_cdf[opt_indx]\n",
    "tn = attacked_cdf[opt_indx]\n",
    "fn = regular_cdf[opt_indx]\n",
    "fp = 1-attacked_cdf[opt_indx]\n",
    "print(f\"TP = {tp}, FP = {fp}\\nTN = {tn}, FN = {fn}\")\n",
    "precision = tp/(tp + fp)\n",
    "recall = tp/(tp+fn)\n",
    "f1 = 2*(precision*recall)/(precision+recall)\n",
    "print(f\"Precision = {precision}      Recall = {recall}       F_1 = {f1} \")"
   ]
  },
  {
   "cell_type": "code",
   "execution_count": null,
   "id": "fea0068e",
   "metadata": {},
   "outputs": [],
   "source": [
    "                 \n",
    "\n",
    "\n",
    "\n",
    "\n",
    "\n",
    "\n",
    "\n",
    "\n",
    "\n",
    "\n",
    "\n",
    "\n",
    "\n",
    "\n",
    "\n",
    "\n",
    "\n",
    "\n",
    "\n",
    "\n",
    "\n"
   ]
  },
  {
   "cell_type": "code",
   "execution_count": null,
   "id": "881b4c7c",
   "metadata": {},
   "outputs": [],
   "source": [
    "def compute_likelihood(logits):\n",
    "    probs = torch.softmax(logits, dim=1)  \n",
    "    max_probs = probs.max(dim=1).values\n",
    "    \n",
    "    # Compute the log-likelihood (sum of logs of max probabilities)\n",
    "    log_likelihood = max_probs.log().sum()  \n",
    "    \n",
    "    # Compute the likelihood (product of max probabilities)\n",
    "    likelihood = max_probs.prod()  # Product over the sequence\n",
    "    \n",
    "    return log_likelihood, likelihood"
   ]
  },
  {
   "cell_type": "code",
   "execution_count": null,
   "id": "74b91632",
   "metadata": {},
   "outputs": [],
   "source": [
    "def compute_confidence(logits):\n",
    "    word_confidences = []\n",
    "    probs = torch.nn.functional.softmax(logits, dim=1)\n",
    "    \n",
    "    for i in range(logits.shape[0]):\n",
    "        word_confidence = probs[i].max()                                                                                                                                                                                                                                                                                                                                                                \n",
    "        word_confidences.append(word_confidence) \n",
    "\n",
    "    # Compute the average confidence for the whole caption\n",
    "    avg_confidence = sum(word_confidences)/len(word_confidences)\n",
    "    return avg_confidence, word_confidences"
   ]
  },
  {
   "cell_type": "code",
   "execution_count": null,
   "id": "a32f5a7c-8f37-4b05-936c-f012f914e278",
   "metadata": {},
   "outputs": [],
   "source": [
    "cartoon_ds = CartoonDataset()\n",
    "cartoon_dl = DataLoader(cartoon_ds, batch_size = 1)"
   ]
  },
  {
   "cell_type": "code",
   "execution_count": null,
   "id": "a5b4ac45-0a14-482b-9ef6-aad08ebd5f59",
   "metadata": {},
   "outputs": [
    {
     "ename": "KeyboardInterrupt",
     "evalue": "",
     "output_type": "error",
     "traceback": [
      "\u001b[0;31m---------------------------------------------------------------------------\u001b[0m",
      "\u001b[0;31mKeyboardInterrupt\u001b[0m                         Traceback (most recent call last)",
      "Cell \u001b[0;32mIn[12], line 5\u001b[0m\n\u001b[1;32m      3\u001b[0m \u001b[38;5;28;01mfor\u001b[39;00m i, batch \u001b[38;5;129;01min\u001b[39;00m \u001b[38;5;28menumerate\u001b[39m(cartoon_dl):\n\u001b[1;32m      4\u001b[0m     img, cap \u001b[38;5;241m=\u001b[39m batch\n\u001b[0;32m----> 5\u001b[0m     _, _, logits, _ \u001b[38;5;241m=\u001b[39m \u001b[43mmodel\u001b[49m\u001b[43m(\u001b[49m\u001b[43mimg\u001b[49m\u001b[38;5;241;43m.\u001b[39;49m\u001b[43mto\u001b[49m\u001b[43m(\u001b[49m\u001b[43mdevice\u001b[49m\u001b[43m)\u001b[49m\u001b[43m,\u001b[49m\u001b[43m \u001b[49m\u001b[43mgen_cap\u001b[49m\u001b[38;5;241;43m=\u001b[39;49m\u001b[38;5;28;43;01mFalse\u001b[39;49;00m\u001b[43m)\u001b[49m\n\u001b[1;32m      6\u001b[0m     logits \u001b[38;5;241m=\u001b[39m logits\u001b[38;5;241m.\u001b[39mdetach()\u001b[38;5;241m.\u001b[39mto(\u001b[38;5;124m'\u001b[39m\u001b[38;5;124mcpu\u001b[39m\u001b[38;5;124m'\u001b[39m)\n\u001b[1;32m      7\u001b[0m     log_likelihood, likelihood \u001b[38;5;241m=\u001b[39m compute_likelihood(logits)\n",
      "File \u001b[0;32m~/236874/projectCode/ModelLoader.py:186\u001b[0m, in \u001b[0;36mgetExpNet.<locals>.pseudomodel\u001b[0;34m(img, gen_cap)\u001b[0m\n\u001b[1;32m    185\u001b[0m \u001b[38;5;28;01mdef\u001b[39;00m \u001b[38;5;21mpseudomodel\u001b[39m(img, gen_cap\u001b[38;5;241m=\u001b[39m\u001b[38;5;28;01mTrue\u001b[39;00m):\n\u001b[0;32m--> 186\u001b[0m     pred, pred_probs, logits, cross_enc_output \u001b[38;5;241m=\u001b[39m \u001b[43mmodel\u001b[49m\u001b[43m(\u001b[49m\u001b[43menc_x\u001b[49m\u001b[38;5;241;43m=\u001b[39;49m\u001b[43mimg\u001b[49m\u001b[43m,\u001b[49m\n\u001b[1;32m    187\u001b[0m \u001b[43m                \u001b[49m\u001b[43menc_x_num_pads\u001b[49m\u001b[38;5;241;43m=\u001b[39;49m\u001b[43m[\u001b[49m\u001b[38;5;241;43m0\u001b[39;49m\u001b[43m]\u001b[49m\u001b[38;5;241;43m*\u001b[39;49m\u001b[43mimg\u001b[49m\u001b[38;5;241;43m.\u001b[39;49m\u001b[43msize\u001b[49m\u001b[43m(\u001b[49m\u001b[38;5;241;43m0\u001b[39;49m\u001b[43m)\u001b[49m\u001b[43m,\u001b[49m\n\u001b[1;32m    188\u001b[0m \u001b[43m                \u001b[49m\u001b[43mmode\u001b[49m\u001b[38;5;241;43m=\u001b[39;49m\u001b[38;5;124;43m'\u001b[39;49m\u001b[38;5;124;43mbeam_search\u001b[39;49m\u001b[38;5;124;43m'\u001b[39;49m\u001b[43m,\u001b[49m\u001b[43m \u001b[49m\u001b[38;5;241;43m*\u001b[39;49m\u001b[38;5;241;43m*\u001b[39;49m\u001b[43mbeam_search_kwargs\u001b[49m\u001b[43m)\u001b[49m\n\u001b[1;32m    189\u001b[0m     \u001b[38;5;28;01mif\u001b[39;00m \u001b[38;5;129;01mnot\u001b[39;00m gen_cap:\n\u001b[1;32m    190\u001b[0m         output \u001b[38;5;241m=\u001b[39m pred\n",
      "File \u001b[0;32m~/miniconda3/envs/captioning/lib/python3.10/site-packages/torch/nn/modules/module.py:1553\u001b[0m, in \u001b[0;36mModule._wrapped_call_impl\u001b[0;34m(self, *args, **kwargs)\u001b[0m\n\u001b[1;32m   1551\u001b[0m     \u001b[38;5;28;01mreturn\u001b[39;00m \u001b[38;5;28mself\u001b[39m\u001b[38;5;241m.\u001b[39m_compiled_call_impl(\u001b[38;5;241m*\u001b[39margs, \u001b[38;5;241m*\u001b[39m\u001b[38;5;241m*\u001b[39mkwargs)  \u001b[38;5;66;03m# type: ignore[misc]\u001b[39;00m\n\u001b[1;32m   1552\u001b[0m \u001b[38;5;28;01melse\u001b[39;00m:\n\u001b[0;32m-> 1553\u001b[0m     \u001b[38;5;28;01mreturn\u001b[39;00m \u001b[38;5;28;43mself\u001b[39;49m\u001b[38;5;241;43m.\u001b[39;49m\u001b[43m_call_impl\u001b[49m\u001b[43m(\u001b[49m\u001b[38;5;241;43m*\u001b[39;49m\u001b[43margs\u001b[49m\u001b[43m,\u001b[49m\u001b[43m \u001b[49m\u001b[38;5;241;43m*\u001b[39;49m\u001b[38;5;241;43m*\u001b[39;49m\u001b[43mkwargs\u001b[49m\u001b[43m)\u001b[49m\n",
      "File \u001b[0;32m~/miniconda3/envs/captioning/lib/python3.10/site-packages/torch/nn/modules/module.py:1562\u001b[0m, in \u001b[0;36mModule._call_impl\u001b[0;34m(self, *args, **kwargs)\u001b[0m\n\u001b[1;32m   1557\u001b[0m \u001b[38;5;66;03m# If we don't have any hooks, we want to skip the rest of the logic in\u001b[39;00m\n\u001b[1;32m   1558\u001b[0m \u001b[38;5;66;03m# this function, and just call forward.\u001b[39;00m\n\u001b[1;32m   1559\u001b[0m \u001b[38;5;28;01mif\u001b[39;00m \u001b[38;5;129;01mnot\u001b[39;00m (\u001b[38;5;28mself\u001b[39m\u001b[38;5;241m.\u001b[39m_backward_hooks \u001b[38;5;129;01mor\u001b[39;00m \u001b[38;5;28mself\u001b[39m\u001b[38;5;241m.\u001b[39m_backward_pre_hooks \u001b[38;5;129;01mor\u001b[39;00m \u001b[38;5;28mself\u001b[39m\u001b[38;5;241m.\u001b[39m_forward_hooks \u001b[38;5;129;01mor\u001b[39;00m \u001b[38;5;28mself\u001b[39m\u001b[38;5;241m.\u001b[39m_forward_pre_hooks\n\u001b[1;32m   1560\u001b[0m         \u001b[38;5;129;01mor\u001b[39;00m _global_backward_pre_hooks \u001b[38;5;129;01mor\u001b[39;00m _global_backward_hooks\n\u001b[1;32m   1561\u001b[0m         \u001b[38;5;129;01mor\u001b[39;00m _global_forward_hooks \u001b[38;5;129;01mor\u001b[39;00m _global_forward_pre_hooks):\n\u001b[0;32m-> 1562\u001b[0m     \u001b[38;5;28;01mreturn\u001b[39;00m \u001b[43mforward_call\u001b[49m\u001b[43m(\u001b[49m\u001b[38;5;241;43m*\u001b[39;49m\u001b[43margs\u001b[49m\u001b[43m,\u001b[49m\u001b[43m \u001b[49m\u001b[38;5;241;43m*\u001b[39;49m\u001b[38;5;241;43m*\u001b[39;49m\u001b[43mkwargs\u001b[49m\u001b[43m)\u001b[49m\n\u001b[1;32m   1564\u001b[0m \u001b[38;5;28;01mtry\u001b[39;00m:\n\u001b[1;32m   1565\u001b[0m     result \u001b[38;5;241m=\u001b[39m \u001b[38;5;28;01mNone\u001b[39;00m\n",
      "File \u001b[0;32m~/236874/./models/ExpansionNet_v2/models/captioning_model.py:41\u001b[0m, in \u001b[0;36mCaptioningModel.forward\u001b[0;34m(self, enc_x, dec_x, enc_x_num_pads, dec_x_num_pads, apply_log_softmax, mode, **kwargs)\u001b[0m\n\u001b[1;32m     39\u001b[0m     beam_max_seq_len \u001b[38;5;241m=\u001b[39m kwargs\u001b[38;5;241m.\u001b[39mget(\u001b[38;5;124m'\u001b[39m\u001b[38;5;124mbeam_max_seq_len\u001b[39m\u001b[38;5;124m'\u001b[39m, \u001b[38;5;241m20\u001b[39m)\n\u001b[1;32m     40\u001b[0m     sample_or_max \u001b[38;5;241m=\u001b[39m kwargs\u001b[38;5;241m.\u001b[39mget(\u001b[38;5;124m'\u001b[39m\u001b[38;5;124msample_or_max\u001b[39m\u001b[38;5;124m'\u001b[39m, \u001b[38;5;124m'\u001b[39m\u001b[38;5;124mmax\u001b[39m\u001b[38;5;124m'\u001b[39m)\n\u001b[0;32m---> 41\u001b[0m     out_classes, out_logprobs, logits, cross_enc_output \u001b[38;5;241m=\u001b[39m \u001b[38;5;28;43mself\u001b[39;49m\u001b[38;5;241;43m.\u001b[39;49m\u001b[43mbeam_search\u001b[49m\u001b[43m(\u001b[49m\n\u001b[1;32m     42\u001b[0m \u001b[43m        \u001b[49m\u001b[43menc_x\u001b[49m\u001b[43m,\u001b[49m\u001b[43m \u001b[49m\u001b[43menc_x_num_pads\u001b[49m\u001b[43m,\u001b[49m\n\u001b[1;32m     43\u001b[0m \u001b[43m        \u001b[49m\u001b[43mbeam_size\u001b[49m\u001b[38;5;241;43m=\u001b[39;49m\u001b[43mbeam_size_arg\u001b[49m\u001b[43m,\u001b[49m\n\u001b[1;32m     44\u001b[0m \u001b[43m        \u001b[49m\u001b[43msos_idx\u001b[49m\u001b[38;5;241;43m=\u001b[39;49m\u001b[43msos_idx\u001b[49m\u001b[43m,\u001b[49m\n\u001b[1;32m     45\u001b[0m \u001b[43m        \u001b[49m\u001b[43meos_idx\u001b[49m\u001b[38;5;241;43m=\u001b[39;49m\u001b[43meos_idx\u001b[49m\u001b[43m,\u001b[49m\n\u001b[1;32m     46\u001b[0m \u001b[43m        \u001b[49m\u001b[43mhow_many_outputs\u001b[49m\u001b[38;5;241;43m=\u001b[39;49m\u001b[43mhow_many_outputs_per_beam\u001b[49m\u001b[43m,\u001b[49m\n\u001b[1;32m     47\u001b[0m \u001b[43m        \u001b[49m\u001b[43mmax_seq_len\u001b[49m\u001b[38;5;241;43m=\u001b[39;49m\u001b[43mbeam_max_seq_len\u001b[49m\u001b[43m,\u001b[49m\n\u001b[1;32m     48\u001b[0m \u001b[43m        \u001b[49m\u001b[43msample_or_max\u001b[49m\u001b[38;5;241;43m=\u001b[39;49m\u001b[43msample_or_max\u001b[49m\u001b[43m)\u001b[49m\n\u001b[1;32m     49\u001b[0m     \u001b[38;5;28;01mreturn\u001b[39;00m out_classes, out_logprobs, logits, cross_enc_output\n\u001b[1;32m     50\u001b[0m \u001b[38;5;28;01mif\u001b[39;00m mode \u001b[38;5;241m==\u001b[39m \u001b[38;5;124m'\u001b[39m\u001b[38;5;124msampling\u001b[39m\u001b[38;5;124m'\u001b[39m:\n",
      "File \u001b[0;32m~/236874/./models/ExpansionNet_v2/models/captioning_model.py:165\u001b[0m, in \u001b[0;36mCaptioningModel.beam_search\u001b[0;34m(self, enc_input, enc_input_num_pads, sos_idx, eos_idx, beam_size, how_many_outputs, max_seq_len, sample_or_max)\u001b[0m\n\u001b[1;32m    162\u001b[0m \u001b[38;5;28;01mfor\u001b[39;00m time_step \u001b[38;5;129;01min\u001b[39;00m \u001b[38;5;28mrange\u001b[39m(\u001b[38;5;241m2\u001b[39m, max_seq_len):\n\u001b[1;32m    163\u001b[0m     loop_dec_classes \u001b[38;5;241m=\u001b[39m loop_dec_classes\u001b[38;5;241m.\u001b[39mreshape(bs \u001b[38;5;241m*\u001b[39m beam_size, time_step)\u001b[38;5;241m.\u001b[39mcontiguous()\n\u001b[0;32m--> 165\u001b[0m     log_probs \u001b[38;5;241m=\u001b[39m \u001b[38;5;28;43mself\u001b[39;49m\u001b[38;5;241;43m.\u001b[39;49m\u001b[43mforward_dec\u001b[49m\u001b[43m(\u001b[49m\u001b[43mcross_input\u001b[49m\u001b[38;5;241;43m=\u001b[39;49m\u001b[43mcross_enc_output\u001b[49m\u001b[43m,\u001b[49m\u001b[43m \u001b[49m\u001b[43menc_input_num_pads\u001b[49m\u001b[38;5;241;43m=\u001b[39;49m\u001b[43menc_input_num_pads\u001b[49m\u001b[43m,\u001b[49m\n\u001b[1;32m    166\u001b[0m \u001b[43m                                 \u001b[49m\u001b[43mdec_input\u001b[49m\u001b[38;5;241;43m=\u001b[39;49m\u001b[43mloop_dec_classes\u001b[49m\u001b[43m,\u001b[49m\n\u001b[1;32m    167\u001b[0m \u001b[43m                                 \u001b[49m\u001b[43mdec_input_num_pads\u001b[49m\u001b[38;5;241;43m=\u001b[39;49m\u001b[43m(\u001b[49m\u001b[43mtime_step\u001b[49m\u001b[38;5;241;43m-\u001b[39;49m\u001b[43mloop_num_elem_vector\u001b[49m\u001b[43m)\u001b[49m\u001b[38;5;241;43m.\u001b[39;49m\u001b[43mtolist\u001b[49m\u001b[43m(\u001b[49m\u001b[43m)\u001b[49m\u001b[43m,\u001b[49m\n\u001b[1;32m    168\u001b[0m \u001b[43m                                 \u001b[49m\u001b[43mapply_log_softmax\u001b[49m\u001b[38;5;241;43m=\u001b[39;49m\u001b[38;5;28;43;01mTrue\u001b[39;49;00m\u001b[43m)\u001b[49m\n\u001b[1;32m    170\u001b[0m     logits\u001b[38;5;241m.\u001b[39mappend(log_probs)\n\u001b[1;32m    171\u001b[0m     \u001b[38;5;28;01mif\u001b[39;00m sample_or_max \u001b[38;5;241m==\u001b[39m \u001b[38;5;124m'\u001b[39m\u001b[38;5;124mmax\u001b[39m\u001b[38;5;124m'\u001b[39m:\n",
      "File \u001b[0;32m~/236874/./models/ExpansionNet_v2/models/End_ExpansionNet_v2.py:123\u001b[0m, in \u001b[0;36mEnd_ExpansionNet_v2.forward_dec\u001b[0;34m(self, cross_input, enc_input_num_pads, dec_input, dec_input_num_pads, apply_log_softmax)\u001b[0m\n\u001b[1;32m    121\u001b[0m y_list \u001b[38;5;241m=\u001b[39m []\n\u001b[1;32m    122\u001b[0m \u001b[38;5;28;01mfor\u001b[39;00m i \u001b[38;5;129;01min\u001b[39;00m \u001b[38;5;28mrange\u001b[39m(\u001b[38;5;28mself\u001b[39m\u001b[38;5;241m.\u001b[39mN_dec):\n\u001b[0;32m--> 123\u001b[0m     y \u001b[38;5;241m=\u001b[39m \u001b[38;5;28;43mself\u001b[39;49m\u001b[38;5;241;43m.\u001b[39;49m\u001b[43mdecoders\u001b[49m\u001b[43m[\u001b[49m\u001b[43mi\u001b[49m\u001b[43m]\u001b[49m\u001b[43m(\u001b[49m\u001b[43mx\u001b[49m\u001b[38;5;241;43m=\u001b[39;49m\u001b[43my\u001b[49m\u001b[43m,\u001b[49m\n\u001b[1;32m    124\u001b[0m \u001b[43m                         \u001b[49m\u001b[43mn_indexes\u001b[49m\u001b[38;5;241;43m=\u001b[39;49m\u001b[43mpos_x\u001b[49m\u001b[43m,\u001b[49m\n\u001b[1;32m    125\u001b[0m \u001b[43m                         \u001b[49m\u001b[43mcross_connection_x\u001b[49m\u001b[38;5;241;43m=\u001b[39;49m\u001b[43mcross_input\u001b[49m\u001b[43m,\u001b[49m\n\u001b[1;32m    126\u001b[0m \u001b[43m                         \u001b[49m\u001b[43minput_attention_mask\u001b[49m\u001b[38;5;241;43m=\u001b[39;49m\u001b[43mno_peak_and_pad_mask\u001b[49m\u001b[43m,\u001b[49m\n\u001b[1;32m    127\u001b[0m \u001b[43m                         \u001b[49m\u001b[43mcross_attention_mask\u001b[49m\u001b[38;5;241;43m=\u001b[39;49m\u001b[43mpad_mask\u001b[49m\u001b[43m)\u001b[49m\n\u001b[1;32m    128\u001b[0m     y_list\u001b[38;5;241m.\u001b[39mappend(y)\n\u001b[1;32m    129\u001b[0m y_list \u001b[38;5;241m=\u001b[39m torch\u001b[38;5;241m.\u001b[39mcat(y_list, dim\u001b[38;5;241m=\u001b[39m\u001b[38;5;241m-\u001b[39m\u001b[38;5;241m1\u001b[39m)\n",
      "File \u001b[0;32m~/miniconda3/envs/captioning/lib/python3.10/site-packages/torch/nn/modules/module.py:1553\u001b[0m, in \u001b[0;36mModule._wrapped_call_impl\u001b[0;34m(self, *args, **kwargs)\u001b[0m\n\u001b[1;32m   1551\u001b[0m     \u001b[38;5;28;01mreturn\u001b[39;00m \u001b[38;5;28mself\u001b[39m\u001b[38;5;241m.\u001b[39m_compiled_call_impl(\u001b[38;5;241m*\u001b[39margs, \u001b[38;5;241m*\u001b[39m\u001b[38;5;241m*\u001b[39mkwargs)  \u001b[38;5;66;03m# type: ignore[misc]\u001b[39;00m\n\u001b[1;32m   1552\u001b[0m \u001b[38;5;28;01melse\u001b[39;00m:\n\u001b[0;32m-> 1553\u001b[0m     \u001b[38;5;28;01mreturn\u001b[39;00m \u001b[38;5;28;43mself\u001b[39;49m\u001b[38;5;241;43m.\u001b[39;49m\u001b[43m_call_impl\u001b[49m\u001b[43m(\u001b[49m\u001b[38;5;241;43m*\u001b[39;49m\u001b[43margs\u001b[49m\u001b[43m,\u001b[49m\u001b[43m \u001b[49m\u001b[38;5;241;43m*\u001b[39;49m\u001b[38;5;241;43m*\u001b[39;49m\u001b[43mkwargs\u001b[49m\u001b[43m)\u001b[49m\n",
      "File \u001b[0;32m~/miniconda3/envs/captioning/lib/python3.10/site-packages/torch/nn/modules/module.py:1562\u001b[0m, in \u001b[0;36mModule._call_impl\u001b[0;34m(self, *args, **kwargs)\u001b[0m\n\u001b[1;32m   1557\u001b[0m \u001b[38;5;66;03m# If we don't have any hooks, we want to skip the rest of the logic in\u001b[39;00m\n\u001b[1;32m   1558\u001b[0m \u001b[38;5;66;03m# this function, and just call forward.\u001b[39;00m\n\u001b[1;32m   1559\u001b[0m \u001b[38;5;28;01mif\u001b[39;00m \u001b[38;5;129;01mnot\u001b[39;00m (\u001b[38;5;28mself\u001b[39m\u001b[38;5;241m.\u001b[39m_backward_hooks \u001b[38;5;129;01mor\u001b[39;00m \u001b[38;5;28mself\u001b[39m\u001b[38;5;241m.\u001b[39m_backward_pre_hooks \u001b[38;5;129;01mor\u001b[39;00m \u001b[38;5;28mself\u001b[39m\u001b[38;5;241m.\u001b[39m_forward_hooks \u001b[38;5;129;01mor\u001b[39;00m \u001b[38;5;28mself\u001b[39m\u001b[38;5;241m.\u001b[39m_forward_pre_hooks\n\u001b[1;32m   1560\u001b[0m         \u001b[38;5;129;01mor\u001b[39;00m _global_backward_pre_hooks \u001b[38;5;129;01mor\u001b[39;00m _global_backward_hooks\n\u001b[1;32m   1561\u001b[0m         \u001b[38;5;129;01mor\u001b[39;00m _global_forward_hooks \u001b[38;5;129;01mor\u001b[39;00m _global_forward_pre_hooks):\n\u001b[0;32m-> 1562\u001b[0m     \u001b[38;5;28;01mreturn\u001b[39;00m \u001b[43mforward_call\u001b[49m\u001b[43m(\u001b[49m\u001b[38;5;241;43m*\u001b[39;49m\u001b[43margs\u001b[49m\u001b[43m,\u001b[49m\u001b[43m \u001b[49m\u001b[38;5;241;43m*\u001b[39;49m\u001b[38;5;241;43m*\u001b[39;49m\u001b[43mkwargs\u001b[49m\u001b[43m)\u001b[49m\n\u001b[1;32m   1564\u001b[0m \u001b[38;5;28;01mtry\u001b[39;00m:\n\u001b[1;32m   1565\u001b[0m     result \u001b[38;5;241m=\u001b[39m \u001b[38;5;28;01mNone\u001b[39;00m\n",
      "File \u001b[0;32m~/236874/./models/ExpansionNet_v2/models/layers.py:204\u001b[0m, in \u001b[0;36mDecoderLayer.forward\u001b[0;34m(self, x, n_indexes, cross_connection_x, input_attention_mask, cross_attention_mask)\u001b[0m\n\u001b[1;32m    200\u001b[0m \u001b[38;5;28;01mdef\u001b[39;00m \u001b[38;5;21mforward\u001b[39m(\u001b[38;5;28mself\u001b[39m, x, n_indexes, cross_connection_x, input_attention_mask, cross_attention_mask):\n\u001b[1;32m    201\u001b[0m \n\u001b[1;32m    202\u001b[0m     \u001b[38;5;66;03m# Pre-LayerNorm\u001b[39;00m\n\u001b[1;32m    203\u001b[0m     x2 \u001b[38;5;241m=\u001b[39m \u001b[38;5;28mself\u001b[39m\u001b[38;5;241m.\u001b[39mnorm_1(x)\n\u001b[0;32m--> 204\u001b[0m     x \u001b[38;5;241m=\u001b[39m x \u001b[38;5;241m+\u001b[39m \u001b[38;5;28mself\u001b[39m\u001b[38;5;241m.\u001b[39mdropout_1(\u001b[38;5;28;43mself\u001b[39;49m\u001b[38;5;241;43m.\u001b[39;49m\u001b[43mdyn_exp\u001b[49m\u001b[43m(\u001b[49m\u001b[43mx\u001b[49m\u001b[38;5;241;43m=\u001b[39;49m\u001b[43mx2\u001b[49m\u001b[43m,\u001b[49m\u001b[43m \u001b[49m\u001b[43mn_indexes\u001b[49m\u001b[38;5;241;43m=\u001b[39;49m\u001b[43mn_indexes\u001b[49m\u001b[43m,\u001b[49m\u001b[43m \u001b[49m\u001b[43mmask\u001b[49m\u001b[38;5;241;43m=\u001b[39;49m\u001b[43minput_attention_mask\u001b[49m\u001b[43m)\u001b[49m)\n\u001b[1;32m    206\u001b[0m     x2 \u001b[38;5;241m=\u001b[39m \u001b[38;5;28mself\u001b[39m\u001b[38;5;241m.\u001b[39mnorm_2(x)\n\u001b[1;32m    207\u001b[0m     x \u001b[38;5;241m=\u001b[39m x \u001b[38;5;241m+\u001b[39m \u001b[38;5;28mself\u001b[39m\u001b[38;5;241m.\u001b[39mdropout_2(\u001b[38;5;28mself\u001b[39m\u001b[38;5;241m.\u001b[39mmha(q\u001b[38;5;241m=\u001b[39mx2, k\u001b[38;5;241m=\u001b[39mcross_connection_x, v\u001b[38;5;241m=\u001b[39mcross_connection_x,\n\u001b[1;32m    208\u001b[0m                                     mask\u001b[38;5;241m=\u001b[39mcross_attention_mask))\n",
      "File \u001b[0;32m~/miniconda3/envs/captioning/lib/python3.10/site-packages/torch/nn/modules/module.py:1553\u001b[0m, in \u001b[0;36mModule._wrapped_call_impl\u001b[0;34m(self, *args, **kwargs)\u001b[0m\n\u001b[1;32m   1551\u001b[0m     \u001b[38;5;28;01mreturn\u001b[39;00m \u001b[38;5;28mself\u001b[39m\u001b[38;5;241m.\u001b[39m_compiled_call_impl(\u001b[38;5;241m*\u001b[39margs, \u001b[38;5;241m*\u001b[39m\u001b[38;5;241m*\u001b[39mkwargs)  \u001b[38;5;66;03m# type: ignore[misc]\u001b[39;00m\n\u001b[1;32m   1552\u001b[0m \u001b[38;5;28;01melse\u001b[39;00m:\n\u001b[0;32m-> 1553\u001b[0m     \u001b[38;5;28;01mreturn\u001b[39;00m \u001b[38;5;28;43mself\u001b[39;49m\u001b[38;5;241;43m.\u001b[39;49m\u001b[43m_call_impl\u001b[49m\u001b[43m(\u001b[49m\u001b[38;5;241;43m*\u001b[39;49m\u001b[43margs\u001b[49m\u001b[43m,\u001b[49m\u001b[43m \u001b[49m\u001b[38;5;241;43m*\u001b[39;49m\u001b[38;5;241;43m*\u001b[39;49m\u001b[43mkwargs\u001b[49m\u001b[43m)\u001b[49m\n",
      "File \u001b[0;32m~/miniconda3/envs/captioning/lib/python3.10/site-packages/torch/nn/modules/module.py:1562\u001b[0m, in \u001b[0;36mModule._call_impl\u001b[0;34m(self, *args, **kwargs)\u001b[0m\n\u001b[1;32m   1557\u001b[0m \u001b[38;5;66;03m# If we don't have any hooks, we want to skip the rest of the logic in\u001b[39;00m\n\u001b[1;32m   1558\u001b[0m \u001b[38;5;66;03m# this function, and just call forward.\u001b[39;00m\n\u001b[1;32m   1559\u001b[0m \u001b[38;5;28;01mif\u001b[39;00m \u001b[38;5;129;01mnot\u001b[39;00m (\u001b[38;5;28mself\u001b[39m\u001b[38;5;241m.\u001b[39m_backward_hooks \u001b[38;5;129;01mor\u001b[39;00m \u001b[38;5;28mself\u001b[39m\u001b[38;5;241m.\u001b[39m_backward_pre_hooks \u001b[38;5;129;01mor\u001b[39;00m \u001b[38;5;28mself\u001b[39m\u001b[38;5;241m.\u001b[39m_forward_hooks \u001b[38;5;129;01mor\u001b[39;00m \u001b[38;5;28mself\u001b[39m\u001b[38;5;241m.\u001b[39m_forward_pre_hooks\n\u001b[1;32m   1560\u001b[0m         \u001b[38;5;129;01mor\u001b[39;00m _global_backward_pre_hooks \u001b[38;5;129;01mor\u001b[39;00m _global_backward_hooks\n\u001b[1;32m   1561\u001b[0m         \u001b[38;5;129;01mor\u001b[39;00m _global_forward_hooks \u001b[38;5;129;01mor\u001b[39;00m _global_forward_pre_hooks):\n\u001b[0;32m-> 1562\u001b[0m     \u001b[38;5;28;01mreturn\u001b[39;00m \u001b[43mforward_call\u001b[49m\u001b[43m(\u001b[49m\u001b[38;5;241;43m*\u001b[39;49m\u001b[43margs\u001b[49m\u001b[43m,\u001b[49m\u001b[43m \u001b[49m\u001b[38;5;241;43m*\u001b[39;49m\u001b[38;5;241;43m*\u001b[39;49m\u001b[43mkwargs\u001b[49m\u001b[43m)\u001b[49m\n\u001b[1;32m   1564\u001b[0m \u001b[38;5;28;01mtry\u001b[39;00m:\n\u001b[1;32m   1565\u001b[0m     result \u001b[38;5;241m=\u001b[39m \u001b[38;5;28;01mNone\u001b[39;00m\n",
      "File \u001b[0;32m~/236874/./models/ExpansionNet_v2/models/layers.py:155\u001b[0m, in \u001b[0;36mDynamicExpansionBlock.forward\u001b[0;34m(self, x, n_indexes, mask)\u001b[0m\n\u001b[1;32m    151\u001b[0m mod_mask_1 \u001b[38;5;241m=\u001b[39m mask\u001b[38;5;241m.\u001b[39munsqueeze(\u001b[38;5;241m2\u001b[39m)\u001b[38;5;241m.\u001b[39mexpand(bs, dec_len, \u001b[38;5;28mself\u001b[39m\u001b[38;5;241m.\u001b[39mnum_exp, dec_len)\u001b[38;5;241m.\u001b[39mcontiguous()\u001b[38;5;241m.\u001b[39m \\\n\u001b[1;32m    152\u001b[0m     view(bs, dec_len \u001b[38;5;241m*\u001b[39m \u001b[38;5;28mself\u001b[39m\u001b[38;5;241m.\u001b[39mnum_exp, dec_len)\n\u001b[1;32m    154\u001b[0m class_a_fw \u001b[38;5;241m=\u001b[39m F\u001b[38;5;241m.\u001b[39mrelu(z)\n\u001b[0;32m--> 155\u001b[0m class_b_fw \u001b[38;5;241m=\u001b[39m \u001b[43mF\u001b[49m\u001b[38;5;241;43m.\u001b[39;49m\u001b[43mrelu\u001b[49m\u001b[43m(\u001b[49m\u001b[38;5;241;43m-\u001b[39;49m\u001b[43mz\u001b[49m\u001b[43m)\u001b[49m\n\u001b[1;32m    156\u001b[0m class_a_fw \u001b[38;5;241m=\u001b[39m class_a_fw\u001b[38;5;241m.\u001b[39mmasked_fill(mod_mask_1 \u001b[38;5;241m==\u001b[39m \u001b[38;5;241m0\u001b[39m, \u001b[38;5;241m0.0\u001b[39m)\n\u001b[1;32m    157\u001b[0m class_b_fw \u001b[38;5;241m=\u001b[39m class_b_fw\u001b[38;5;241m.\u001b[39mmasked_fill(mod_mask_1 \u001b[38;5;241m==\u001b[39m \u001b[38;5;241m0\u001b[39m, \u001b[38;5;241m0.0\u001b[39m)\n",
      "File \u001b[0;32m~/miniconda3/envs/captioning/lib/python3.10/site-packages/torch/nn/functional.py:1500\u001b[0m, in \u001b[0;36mrelu\u001b[0;34m(input, inplace)\u001b[0m\n\u001b[1;32m   1498\u001b[0m     result \u001b[38;5;241m=\u001b[39m torch\u001b[38;5;241m.\u001b[39mrelu_(\u001b[38;5;28minput\u001b[39m)\n\u001b[1;32m   1499\u001b[0m \u001b[38;5;28;01melse\u001b[39;00m:\n\u001b[0;32m-> 1500\u001b[0m     result \u001b[38;5;241m=\u001b[39m \u001b[43mtorch\u001b[49m\u001b[38;5;241;43m.\u001b[39;49m\u001b[43mrelu\u001b[49m\u001b[43m(\u001b[49m\u001b[38;5;28;43minput\u001b[39;49m\u001b[43m)\u001b[49m\n\u001b[1;32m   1501\u001b[0m \u001b[38;5;28;01mreturn\u001b[39;00m result\n",
      "\u001b[0;31mKeyboardInterrupt\u001b[0m: "
     ]
    }
   ],
   "source": [
    "# Iterating over cartoon ds\n",
    "lst=[]\n",
    "for i, batch in enumerate(cartoon_dl):\n",
    "    img, cap = batch\n",
    "    _, _, logits, _ = model(img.to(device), gen_cap=False)\n",
    "    logits = logits.detach().to('cpu')\n",
    "    log_likelihood, likelihood = compute_likelihood(logits)\n",
    "    lst.append(likelihood)\n",
    "    #avg_confidence = torch.norm(torch.softmax(logits,dim=-1),p=2,dim=-1).mean()\n",
    "    #avg_confidence, _ = compute_confidence(logits)\n",
    "\n",
    "    '''\n",
    "    if avg_confidence <= 0.85:\n",
    "        print(f\"Confidence: {avg_confidence}\")\n",
    "        plt.figure(figsize=(4, 4))\n",
    "        plt.axis(\"off\")\n",
    "        plt.imshow(img.squeeze(0).permute(1, 2, 0))\n",
    "        plt.show()\n",
    "    '''\n",
    "\n",
    "print(sum(lst)/len(lst))"
   ]
  },
  {
   "cell_type": "code",
   "execution_count": null,
   "id": "f3b11cf4-cfea-493c-8705-a2edb7450c94",
   "metadata": {},
   "outputs": [],
   "source": [
    "# Iterating over COCO ds\n",
    "lst=[]\n",
    "for i, batch in enumerate(dl):\n",
    "    img, cap = batch\n",
    "    _, _, logits, _ = model(img.to(device))\n",
    "    logits = logits.detach().to('cpu')\n",
    "    log_likelihood, likelihood = compute_likelihood(logits)\n",
    "    lst.append(likelihood)\n",
    "\n",
    "print(sum(lst)/len(lst))"
   ]
  }
 ],
 "metadata": {
  "kernelspec": {
   "display_name": "Python 3 (ipykernel)",
   "language": "python",
   "name": "python3"
  },
  "language_info": {
   "codemirror_mode": {
    "name": "ipython",
    "version": 3
   },
   "file_extension": ".py",
   "mimetype": "text/x-python",
   "name": "python",
   "nbconvert_exporter": "python",
   "pygments_lexer": "ipython3",
   "version": "3.10.14"
  }
 },
 "nbformat": 4,
 "nbformat_minor": 5
}
